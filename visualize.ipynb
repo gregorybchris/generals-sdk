{
 "cells": [
  {
   "cell_type": "code",
   "execution_count": null,
   "metadata": {},
   "outputs": [],
   "source": [
    "from games.game import Game\n",
    "from games.game_factory import GameFactory\n",
    "from players import Players\n",
    "from visualize import get_cumulative_ranks_df, print_stats"
   ]
  },
  {
   "cell_type": "code",
   "execution_count": null,
   "metadata": {},
   "outputs": [],
   "source": [
    "tracked_players = [Players.CHRIS, Players.JASON, Players.YUKI, Players.JONATHAN,\n",
    "                   Players.ROBERT, Players.KEVIN, Players.MAX, Players.LOGAN]\n",
    "\n",
    "factory = GameFactory(tracked_players)\n",
    "games = factory.get_games(game_type=Game.TYPE_CUSTOM, use_cache=True)"
   ]
  },
  {
   "cell_type": "code",
   "execution_count": null,
   "metadata": {},
   "outputs": [],
   "source": [
    "df = get_cumulative_ranks_df(games)"
   ]
  },
  {
   "cell_type": "code",
   "execution_count": null,
   "metadata": {},
   "outputs": [],
   "source": []
  },
  {
   "cell_type": "code",
   "execution_count": null,
   "metadata": {},
   "outputs": [],
   "source": [
    "import altair as alt\n",
    "\n",
    "alt.Chart(df).mark_line().encode(\n",
    "    x='Game Number',\n",
    "    y='Average Normalized Rank',\n",
    "    color='Player'\n",
    ").properties(width=700, height=500)"
   ]
  },
  {
   "cell_type": "code",
   "execution_count": null,
   "metadata": {},
   "outputs": [],
   "source": [
    "print_stats(games)"
   ]
  },
  {
   "cell_type": "code",
   "execution_count": null,
   "metadata": {},
   "outputs": [],
   "source": []
  }
 ],
 "metadata": {
  "kernelspec": {
   "display_name": "ds2",
   "language": "python",
   "name": "ds2"
  },
  "language_info": {
   "codemirror_mode": {
    "name": "ipython",
    "version": 3
   },
   "file_extension": ".py",
   "mimetype": "text/x-python",
   "name": "python",
   "nbconvert_exporter": "python",
   "pygments_lexer": "ipython3",
   "version": "3.7.7"
  }
 },
 "nbformat": 4,
 "nbformat_minor": 2
}
